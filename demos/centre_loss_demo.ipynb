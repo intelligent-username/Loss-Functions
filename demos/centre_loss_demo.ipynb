{
 "cells": [
  {
   "cell_type": "markdown",
   "id": "300a7f8e",
   "metadata": {},
   "source": [
    "# Centre Loss Demo\n",
    "\n",
    "> TODO: Populate with examples and commentary."
   ]
  }
 ],
 "metadata": {
  "language_info": {
   "name": "python"
  }
 },
 "nbformat": 4,
 "nbformat_minor": 5
}
