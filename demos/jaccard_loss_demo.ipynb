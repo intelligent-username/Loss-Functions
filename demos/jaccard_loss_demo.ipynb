{
 "cells": [
  {
   "cell_type": "markdown",
   "id": "85e340d2",
   "metadata": {},
   "source": [
    "# Jaccard Loss Demo\n",
    "\n",
    "> TODO: EVERYTHING"
   ]
  }
 ],
 "metadata": {
  "language_info": {
   "name": "python"
  }
 },
 "nbformat": 4,
 "nbformat_minor": 5
}
