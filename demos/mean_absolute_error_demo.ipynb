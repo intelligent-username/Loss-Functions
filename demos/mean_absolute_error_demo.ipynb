{
 "cells": [
  {
   "cell_type": "markdown",
   "id": "a8feec34",
   "metadata": {},
   "source": [
    "# Mean Absolute Error\n",
    "\n",
    "TODO: Populate w/ examples & commentary."
   ]
  }
 ],
 "metadata": {
  "language_info": {
   "name": "python"
  }
 },
 "nbformat": 4,
 "nbformat_minor": 5
}
