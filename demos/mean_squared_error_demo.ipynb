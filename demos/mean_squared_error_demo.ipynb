{
 "cells": [
  {
   "cell_type": "markdown",
   "id": "0cab9606",
   "metadata": {},
   "source": [
    "# Mean Squared Error Demo\n",
    "\n",
    "> TODO: EVERYTHING"
   ]
  }
 ],
 "metadata": {
  "language_info": {
   "name": "python"
  }
 },
 "nbformat": 4,
 "nbformat_minor": 5
}
