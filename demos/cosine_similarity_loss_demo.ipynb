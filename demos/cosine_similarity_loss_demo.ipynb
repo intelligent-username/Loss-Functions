{
 "cells": [
  {
   "cell_type": "markdown",
   "id": "0f65c177",
   "metadata": {},
   "source": [
    "# Cosine Similarity\n"
   ]
  }
 ],
 "metadata": {
  "language_info": {
   "name": "python"
  }
 },
 "nbformat": 4,
 "nbformat_minor": 5
}
