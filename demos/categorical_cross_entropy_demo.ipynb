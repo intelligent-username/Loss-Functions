{
 "cells": [
  {
   "cell_type": "markdown",
   "id": "8a1e30fa",
   "metadata": {},
   "source": [
    "# Categorical Cross-Entropy\n",
    "\n",
    "> TODO: Examples and etc."
   ]
  }
 ],
 "metadata": {
  "language_info": {
   "name": "python"
  }
 },
 "nbformat": 4,
 "nbformat_minor": 5
}
