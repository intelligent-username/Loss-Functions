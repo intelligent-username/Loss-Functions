{
 "cells": [
  {
   "cell_type": "markdown",
   "id": "7bfcb8aa",
   "metadata": {},
   "source": [
    "# Log Loss Demo\n",
    "\n",
    "> Populate with examples and commentary."
   ]
  }
 ],
 "metadata": {
  "language_info": {
   "name": "python"
  }
 },
 "nbformat": 4,
 "nbformat_minor": 5
}
